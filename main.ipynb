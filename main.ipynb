{
 "cells": [
  {
   "cell_type": "code",
   "execution_count": 65,
   "metadata": {
    "collapsed": false
   },
   "outputs": [
    {
     "ename": "MemoryError",
     "evalue": "",
     "output_type": "error",
     "traceback": [
      "\u001b[0;31m---------------------------------------------------------------------------\u001b[0m",
      "\u001b[0;31mMemoryError\u001b[0m                               Traceback (most recent call last)",
      "\u001b[0;32m<ipython-input-65-7735cae8b7ae>\u001b[0m in \u001b[0;36m<module>\u001b[0;34m()\u001b[0m\n\u001b[1;32m     31\u001b[0m \u001b[0mindex_max\u001b[0m \u001b[1;33m=\u001b[0m \u001b[1;36m0\u001b[0m\u001b[1;33m\u001b[0m\u001b[0m\n\u001b[1;32m     32\u001b[0m \u001b[1;33m\u001b[0m\u001b[0m\n\u001b[0;32m---> 33\u001b[0;31m \u001b[0mvalid_data\u001b[0m \u001b[1;33m=\u001b[0m \u001b[0mnp\u001b[0m\u001b[1;33m.\u001b[0m\u001b[0mzeros\u001b[0m\u001b[1;33m(\u001b[0m\u001b[1;33m(\u001b[0m\u001b[1;36m999999\u001b[0m\u001b[1;33m,\u001b[0m \u001b[1;36m32\u001b[0m\u001b[1;33m,\u001b[0m \u001b[1;36m30\u001b[0m\u001b[1;33m,\u001b[0m \u001b[1;36m3\u001b[0m\u001b[1;33m)\u001b[0m\u001b[1;33m)\u001b[0m\u001b[1;33m\u001b[0m\u001b[0m\n\u001b[0m\u001b[1;32m     34\u001b[0m \u001b[1;32mfor\u001b[0m \u001b[0mi\u001b[0m \u001b[1;32min\u001b[0m \u001b[0mrange\u001b[0m\u001b[1;33m(\u001b[0m\u001b[1;36m1\u001b[0m\u001b[1;33m,\u001b[0m \u001b[0mraw_data_num\u001b[0m\u001b[1;33m)\u001b[0m\u001b[1;33m:\u001b[0m\u001b[1;33m\u001b[0m\u001b[0m\n\u001b[1;32m     35\u001b[0m     \u001b[0mdriver_id\u001b[0m \u001b[1;33m=\u001b[0m \u001b[0mint\u001b[0m\u001b[1;33m(\u001b[0m\u001b[0mdriver_list\u001b[0m\u001b[1;33m[\u001b[0m\u001b[0mi\u001b[0m\u001b[1;33m]\u001b[0m\u001b[1;33m)\u001b[0m\u001b[1;33m\u001b[0m\u001b[0m\n",
      "\u001b[0;31mMemoryError\u001b[0m: "
     ]
    }
   ],
   "source": [
    "#######################\n",
    "# ベテランルート抽出 #\n",
    "######################\n",
    "import xlrd\n",
    "\n",
    "DEBUG_PRINT_NUM=10\n",
    "\n",
    "# Excel読み込み\n",
    "wb = xlrd.open_workbook('data/2019_06.xls')\n",
    "sheet = wb.sheets()[0]\n",
    "\n",
    "# 緯度/経度 取得\n",
    "latitude_list = sheet.col_values(19)\n",
    "longitude_list = sheet.col_values(20)\n",
    "\n",
    "# 配送日付 取得\n",
    "date_list_1 = sheet.col_values(1)\n",
    "date_list_2 = sheet.col_values(12)\n",
    "\n",
    "date_list = date_list_1 # 持ち出し日付を配送日付とする\n",
    "\n",
    "# 配送時刻 取得\n",
    "time_list = sheet.col_values(13)\n",
    "\n",
    "# ドライバーID 取得\n",
    "driver_list = sheet.col_values(6)\n",
    "\n",
    "# 取得データをまとめる\n",
    "raw_data_num = len(date_list)\n",
    "valid_data_num = 0\n",
    "index_max = 0\n",
    "\n",
    "valid_data = np.zeros((999999, 32, 30, 3))\n",
    "for i in range(1, raw_data_num):\n",
    "    driver_id = int(driver_list[i])\n",
    "    # ドライバーIDが欠損していないかどうかの判定\n",
    "    if driver_id != 0:\n",
    "        # (緯度, 経度, 配送時刻)の3つを格納データとする\n",
    "        _valid_data = [float(latitude_list[i]), float(longitude_list[i]), int(time_list[i])]\n",
    "        # ドライバーID, 配送日付, インデックス(データを受け取った順番) によって振り分け，リストに格納\n",
    "        date = int(date_list[i]%100)\n",
    "        index = 0\n",
    "        while valid_data[driver_id][date][index] is [0, 0, 0]:\n",
    "            index += 1\n",
    "        valid_data[driver_id][date][index] = _valid_data\n",
    "        \n",
    "        index_max = max(index, index_max)\n",
    "        \n",
    "        valid_data_num += 1\n",
    "\n",
    "#################################################################################################\n",
    "print('上から{0}個のデータを見てみる\\n'.format(DEBUG_PRINT_NUM))\n",
    "\n",
    "print('\\n\\n 座標')\n",
    "print('----------------------------------------')\n",
    "for i in range(DEBUG_PRINT_NUM):\n",
    "    print('{0}: ({1}, {2})'.format(i, latitude_list[i], longitude_list[i]))\n",
    "print('----------------------------------------')\n",
    "print('\\n\\n 日付')\n",
    "print('----------------------------------------')\n",
    "for i in range(DEBUG_PRINT_NUM):\n",
    "    print('{0}: ({1}, {2})'.format(i, date_list_1[i], date_list_2[i]))\n",
    "print('----------------------------------------')\n",
    "print('\\n\\n 持出日付と完了日付が一致していないデータ')\n",
    "print('----------------------------------------')\n",
    "for i in range(1, len(date_list_1)):\n",
    "    date1 = date_list_1[i]\n",
    "    date2 = date_list_2[i]\n",
    "    if date1 != date2:\n",
    "        print('(持出日付, 完了日付)=({0}, {1})'.format(date1, date2))\n",
    "print('\\n\\n 時刻')\n",
    "print('----------------------------------------')\n",
    "for i in range(DEBUG_PRINT_NUM):\n",
    "    print('{0}: {1}'.format(i, time_list[i]))\n",
    "print('----------------------------------------')\n",
    "print('\\n\\n ドライバーID')\n",
    "print('----------------------------------------')\n",
    "for i in range(DEBUG_PRINT_NUM):\n",
    "    print('{0}: {1}'.format(i, driver_list[i]))\n",
    "print('----------------------------------------')\n",
    "\n",
    "\n",
    "print('\\n\\n 2019年6月の総データ数={0}'.format(raw_data_num))\n",
    "print('ドライバーIDが欠損していないデータ数={0}'.format(valid_data_num))\n",
    "print('最大配送回数={0}'.format(index_max))\n",
    "#################################################################################################\n",
    "\n"
   ]
  },
  {
   "cell_type": "code",
   "execution_count": null,
   "metadata": {
    "collapsed": false
   },
   "outputs": [],
   "source": []
  }
 ],
 "metadata": {
  "anaconda-cloud": {},
  "kernelspec": {
   "display_name": "Python [default]",
   "language": "python",
   "name": "python3"
  },
  "language_info": {
   "codemirror_mode": {
    "name": "ipython",
    "version": 3
   },
   "file_extension": ".py",
   "mimetype": "text/x-python",
   "name": "python",
   "nbconvert_exporter": "python",
   "pygments_lexer": "ipython3",
   "version": "3.5.2"
  }
 },
 "nbformat": 4,
 "nbformat_minor": 1
}
